{
 "cells": [
  {
   "cell_type": "markdown",
   "id": "a07b5dc6",
   "metadata": {},
   "source": [
    "### Steps\n",
    "\n",
    "Code to pull data is as below, we used a mixed of **yfinace** data and **fred** data. 7 indicators\n",
    "\n",
    "Each dataset has a different update schedule, for example, **sp500** is updated daily, while **gdp growth rate** is updated quarterly. *Here is the list:*\n",
    "- sp500: daily \n",
    "- interest_rates: daily \n",
    "- inflation_rates: monthly \n",
    "- gdp_growth_rates: quarterly \n",
    "- employment_rates: monthly \n",
    "- consumer_sentiment: monthly \n",
    "- vix: daily\n",
    "\n",
    "*Cleaning steps:*\n",
    "- Rename each indicator's column name\n",
    "- Fill na values with **ffill** method\n",
    "- For quarterly and monthly indicators, the data change will not be abrupt. For example, data in Jan 1 will not be significantly different from Jan 15. Therefore, in order to expand the time series data, we will fill rows, for example, Jan 2 to Jan 31, with data on Jan 1. This is filled by using **ffill** method.\n",
    "- We merge data using **interest_rates** df as base df, since it has the most rows.\n",
    "- Finally, fill na with **ffill** and **bfill** using the same logic. Or else, just drop it"
   ]
  },
  {
   "cell_type": "markdown",
   "id": "de45eae6",
   "metadata": {},
   "source": [
    "# Code to pull data"
   ]
  },
  {
   "cell_type": "code",
   "execution_count": null,
   "id": "0a13ee8e",
   "metadata": {},
   "outputs": [],
   "source": [
    "# DO NOT RUN\n",
    "import yfinance as yf\n",
    "import pandas_datareader.data as web\n",
    "import datetime\n",
    "\n",
    "sp500_data = yf.download(\"SPY\", start=\"1999-01-01\", end=\"2024-08-19\")\n",
    "vix_data = yf.download(\"^VIX\", start=\"1999-01-01\", end=\"2024-08-19\")\n",
    "\n",
    "# Define date range\n",
    "start_date = datetime.datetime(1999, 1, 1)\n",
    "end_date = datetime.datetime(2024, 8, 19)\n",
    "\n",
    "# Interest Rates (10-Year Treasury)\n",
    "interest_rates = web.DataReader('DGS10', 'fred', start_date, end_date)\n",
    "\n",
    "# Inflation Rates (CPI)\n",
    "inflation_rates = web.DataReader('CPIAUCSL', 'fred', start_date, end_date)\n",
    "\n",
    "# GDP Growth Rates\n",
    "gdp_growth_rates = web.DataReader('A191RL1Q225SBEA', 'fred', start_date, end_date)\n",
    "\n",
    "# Employment Data (Unemployment Rate)\n",
    "employment_data = web.DataReader('UNRATE', 'fred', start_date, end_date)\n",
    "\n",
    "# Consumer Sentiment Index\n",
    "consumer_sentiment = web.DataReader('UMCSENT', 'fred', start_date, end_date)\n",
    "\n",
    "# Save data to CSV\n",
    "sp500_data.to_csv(\"sp500_data.csv\")\n",
    "interest_rates.to_csv(\"interest_rates.csv\")\n",
    "inflation_rates.to_csv(\"inflation_rates.csv\")\n",
    "gdp_growth_rates.to_csv(\"gdp_growth_rates.csv\")\n",
    "employment_data.to_csv(\"employment_data.csv\")\n",
    "consumer_sentiment.to_csv(\"consumer_sentiment.csv\")\n",
    "vix_data.to_csv(\"vix_data.csv\")"
   ]
  },
  {
   "cell_type": "code",
   "execution_count": 1,
   "id": "f2633955",
   "metadata": {},
   "outputs": [],
   "source": [
    "import pandas as pd"
   ]
  },
  {
   "cell_type": "code",
   "execution_count": 2,
   "id": "37308429",
   "metadata": {},
   "outputs": [],
   "source": [
    "sp500 = pd.read_csv('sp500_data.csv')\n",
    "interest_rates = pd.read_csv('interest_rates.csv')\n",
    "inflation_rates = pd.read_csv('inflation_rates.csv')\n",
    "gdp_growth_rates = pd.read_csv('gdp_growth_rates.csv')\n",
    "employment_rates = pd.read_csv('employment_data.csv')\n",
    "consumer_sentiment = pd.read_csv('consumer_sentiment.csv')\n",
    "vix = pd.read_csv('vix_data.csv')"
   ]
  },
  {
   "cell_type": "code",
   "execution_count": 3,
   "id": "3cce597f",
   "metadata": {},
   "outputs": [],
   "source": [
    "# Daily\n",
    "interest_rates = interest_rates.rename(columns = {'DATE' : 'Date','DGS10':'Interest Rate'})\n",
    "# Smoothing the first data point\n",
    "interest_rates.loc[0, 'Interest Rate'] = interest_rates.loc[1, 'Interest Rate']"
   ]
  },
  {
   "cell_type": "code",
   "execution_count": 4,
   "id": "a829a4bf",
   "metadata": {},
   "outputs": [
    {
     "data": {
      "text/plain": [
       "<bound method NDFrame.describe of             Date  sp500_Open  sp500_High   sp500_Low  sp500_Close  \\\n",
       "0     1999-01-04  123.375000  125.218750  121.718750   123.031250   \n",
       "1     1999-01-05  122.937500  124.875000  122.937500   124.437500   \n",
       "2     1999-01-06  125.812500  127.750000  125.750000   127.437500   \n",
       "3     1999-01-07  126.375000  127.218750  125.781250   126.812500   \n",
       "4     1999-01-08  128.187500  128.500000  125.968750   127.750000   \n",
       "...          ...         ...         ...         ...          ...   \n",
       "6442  2024-08-12  534.210022  535.729980  530.950012   533.270020   \n",
       "6443  2024-08-13  536.530029  542.280029  536.280029   542.039978   \n",
       "6444  2024-08-14  542.849976  544.960022  540.119995   543.750000   \n",
       "6445  2024-08-15  549.500000  553.359985  548.880005   553.070007   \n",
       "6446  2024-08-16  551.419983  555.020020  551.260010   554.309998   \n",
       "\n",
       "      sp500_Adj Close  sp500_Volume  \n",
       "0           78.077797       9450400  \n",
       "1           78.970261       8031000  \n",
       "2           80.874115       7737700  \n",
       "3           80.477425       5504900  \n",
       "4           81.072426       6224400  \n",
       "...               ...           ...  \n",
       "6442       533.270020      42542100  \n",
       "6443       542.039978      52333100  \n",
       "6444       543.750000      42446900  \n",
       "6445       553.070007      60846800  \n",
       "6446       554.309998      44430700  \n",
       "\n",
       "[6447 rows x 7 columns]>"
      ]
     },
     "execution_count": 4,
     "metadata": {},
     "output_type": "execute_result"
    }
   ],
   "source": [
    "# Daily\n",
    "sp500.columns = ['Date']+['sp500_' + str(col) for col in sp500.columns if col != 'Date']\n",
    "sp500.describe"
   ]
  },
  {
   "cell_type": "code",
   "execution_count": 5,
   "id": "04fbe64a",
   "metadata": {},
   "outputs": [
    {
     "data": {
      "text/html": [
       "<div>\n",
       "<style scoped>\n",
       "    .dataframe tbody tr th:only-of-type {\n",
       "        vertical-align: middle;\n",
       "    }\n",
       "\n",
       "    .dataframe tbody tr th {\n",
       "        vertical-align: top;\n",
       "    }\n",
       "\n",
       "    .dataframe thead th {\n",
       "        text-align: right;\n",
       "    }\n",
       "</style>\n",
       "<table border=\"1\" class=\"dataframe\">\n",
       "  <thead>\n",
       "    <tr style=\"text-align: right;\">\n",
       "      <th></th>\n",
       "      <th>Date</th>\n",
       "      <th>Inflation Index</th>\n",
       "    </tr>\n",
       "  </thead>\n",
       "  <tbody>\n",
       "    <tr>\n",
       "      <th>0</th>\n",
       "      <td>1999-01-01</td>\n",
       "      <td>164.700</td>\n",
       "    </tr>\n",
       "    <tr>\n",
       "      <th>1</th>\n",
       "      <td>1999-02-01</td>\n",
       "      <td>164.700</td>\n",
       "    </tr>\n",
       "    <tr>\n",
       "      <th>2</th>\n",
       "      <td>1999-03-01</td>\n",
       "      <td>164.800</td>\n",
       "    </tr>\n",
       "    <tr>\n",
       "      <th>3</th>\n",
       "      <td>1999-04-01</td>\n",
       "      <td>165.900</td>\n",
       "    </tr>\n",
       "    <tr>\n",
       "      <th>4</th>\n",
       "      <td>1999-05-01</td>\n",
       "      <td>166.000</td>\n",
       "    </tr>\n",
       "    <tr>\n",
       "      <th>...</th>\n",
       "      <td>...</td>\n",
       "      <td>...</td>\n",
       "    </tr>\n",
       "    <tr>\n",
       "      <th>303</th>\n",
       "      <td>2024-04-01</td>\n",
       "      <td>313.207</td>\n",
       "    </tr>\n",
       "    <tr>\n",
       "      <th>304</th>\n",
       "      <td>2024-05-01</td>\n",
       "      <td>313.225</td>\n",
       "    </tr>\n",
       "    <tr>\n",
       "      <th>305</th>\n",
       "      <td>2024-06-01</td>\n",
       "      <td>313.049</td>\n",
       "    </tr>\n",
       "    <tr>\n",
       "      <th>306</th>\n",
       "      <td>2024-07-01</td>\n",
       "      <td>313.534</td>\n",
       "    </tr>\n",
       "    <tr>\n",
       "      <th>307</th>\n",
       "      <td>2024-08-01</td>\n",
       "      <td>314.121</td>\n",
       "    </tr>\n",
       "  </tbody>\n",
       "</table>\n",
       "<p>308 rows × 2 columns</p>\n",
       "</div>"
      ],
      "text/plain": [
       "           Date  Inflation Index\n",
       "0    1999-01-01          164.700\n",
       "1    1999-02-01          164.700\n",
       "2    1999-03-01          164.800\n",
       "3    1999-04-01          165.900\n",
       "4    1999-05-01          166.000\n",
       "..          ...              ...\n",
       "303  2024-04-01          313.207\n",
       "304  2024-05-01          313.225\n",
       "305  2024-06-01          313.049\n",
       "306  2024-07-01          313.534\n",
       "307  2024-08-01          314.121\n",
       "\n",
       "[308 rows x 2 columns]"
      ]
     },
     "execution_count": 5,
     "metadata": {},
     "output_type": "execute_result"
    }
   ],
   "source": [
    "# Monthly\n",
    "inflation_rates = inflation_rates.rename(columns = {'DATE' : 'Date','CPIAUCSL':'Inflation Index'})\n",
    "inflation_rates"
   ]
  },
  {
   "cell_type": "code",
   "execution_count": 6,
   "id": "87360eb7",
   "metadata": {},
   "outputs": [
    {
     "data": {
      "text/html": [
       "<div>\n",
       "<style scoped>\n",
       "    .dataframe tbody tr th:only-of-type {\n",
       "        vertical-align: middle;\n",
       "    }\n",
       "\n",
       "    .dataframe tbody tr th {\n",
       "        vertical-align: top;\n",
       "    }\n",
       "\n",
       "    .dataframe thead th {\n",
       "        text-align: right;\n",
       "    }\n",
       "</style>\n",
       "<table border=\"1\" class=\"dataframe\">\n",
       "  <thead>\n",
       "    <tr style=\"text-align: right;\">\n",
       "      <th></th>\n",
       "      <th>Date</th>\n",
       "      <th>GDP Growth Rate</th>\n",
       "    </tr>\n",
       "  </thead>\n",
       "  <tbody>\n",
       "    <tr>\n",
       "      <th>0</th>\n",
       "      <td>1999-01-01</td>\n",
       "      <td>3.8</td>\n",
       "    </tr>\n",
       "    <tr>\n",
       "      <th>1</th>\n",
       "      <td>1999-04-01</td>\n",
       "      <td>3.4</td>\n",
       "    </tr>\n",
       "    <tr>\n",
       "      <th>2</th>\n",
       "      <td>1999-07-01</td>\n",
       "      <td>5.4</td>\n",
       "    </tr>\n",
       "    <tr>\n",
       "      <th>3</th>\n",
       "      <td>1999-10-01</td>\n",
       "      <td>6.7</td>\n",
       "    </tr>\n",
       "    <tr>\n",
       "      <th>4</th>\n",
       "      <td>2000-01-01</td>\n",
       "      <td>1.5</td>\n",
       "    </tr>\n",
       "    <tr>\n",
       "      <th>...</th>\n",
       "      <td>...</td>\n",
       "      <td>...</td>\n",
       "    </tr>\n",
       "    <tr>\n",
       "      <th>97</th>\n",
       "      <td>2023-04-01</td>\n",
       "      <td>2.1</td>\n",
       "    </tr>\n",
       "    <tr>\n",
       "      <th>98</th>\n",
       "      <td>2023-07-01</td>\n",
       "      <td>4.9</td>\n",
       "    </tr>\n",
       "    <tr>\n",
       "      <th>99</th>\n",
       "      <td>2023-10-01</td>\n",
       "      <td>3.4</td>\n",
       "    </tr>\n",
       "    <tr>\n",
       "      <th>100</th>\n",
       "      <td>2024-01-01</td>\n",
       "      <td>1.4</td>\n",
       "    </tr>\n",
       "    <tr>\n",
       "      <th>101</th>\n",
       "      <td>2024-04-01</td>\n",
       "      <td>3.0</td>\n",
       "    </tr>\n",
       "  </tbody>\n",
       "</table>\n",
       "<p>102 rows × 2 columns</p>\n",
       "</div>"
      ],
      "text/plain": [
       "           Date  GDP Growth Rate\n",
       "0    1999-01-01              3.8\n",
       "1    1999-04-01              3.4\n",
       "2    1999-07-01              5.4\n",
       "3    1999-10-01              6.7\n",
       "4    2000-01-01              1.5\n",
       "..          ...              ...\n",
       "97   2023-04-01              2.1\n",
       "98   2023-07-01              4.9\n",
       "99   2023-10-01              3.4\n",
       "100  2024-01-01              1.4\n",
       "101  2024-04-01              3.0\n",
       "\n",
       "[102 rows x 2 columns]"
      ]
     },
     "execution_count": 6,
     "metadata": {},
     "output_type": "execute_result"
    }
   ],
   "source": [
    "# Quarterly\n",
    "gdp_growth_rates = gdp_growth_rates.rename(columns = {'DATE' : 'Date','A191RL1Q225SBEA':'GDP Growth Rate'})\n",
    "gdp_growth_rates"
   ]
  },
  {
   "cell_type": "code",
   "execution_count": 7,
   "id": "403f2188",
   "metadata": {},
   "outputs": [
    {
     "data": {
      "text/html": [
       "<div>\n",
       "<style scoped>\n",
       "    .dataframe tbody tr th:only-of-type {\n",
       "        vertical-align: middle;\n",
       "    }\n",
       "\n",
       "    .dataframe tbody tr th {\n",
       "        vertical-align: top;\n",
       "    }\n",
       "\n",
       "    .dataframe thead th {\n",
       "        text-align: right;\n",
       "    }\n",
       "</style>\n",
       "<table border=\"1\" class=\"dataframe\">\n",
       "  <thead>\n",
       "    <tr style=\"text-align: right;\">\n",
       "      <th></th>\n",
       "      <th>Date</th>\n",
       "      <th>Unemployment Rate</th>\n",
       "    </tr>\n",
       "  </thead>\n",
       "  <tbody>\n",
       "    <tr>\n",
       "      <th>0</th>\n",
       "      <td>1999-01-01</td>\n",
       "      <td>4.3</td>\n",
       "    </tr>\n",
       "    <tr>\n",
       "      <th>1</th>\n",
       "      <td>1999-02-01</td>\n",
       "      <td>4.4</td>\n",
       "    </tr>\n",
       "    <tr>\n",
       "      <th>2</th>\n",
       "      <td>1999-03-01</td>\n",
       "      <td>4.2</td>\n",
       "    </tr>\n",
       "    <tr>\n",
       "      <th>3</th>\n",
       "      <td>1999-04-01</td>\n",
       "      <td>4.3</td>\n",
       "    </tr>\n",
       "    <tr>\n",
       "      <th>4</th>\n",
       "      <td>1999-05-01</td>\n",
       "      <td>4.2</td>\n",
       "    </tr>\n",
       "    <tr>\n",
       "      <th>...</th>\n",
       "      <td>...</td>\n",
       "      <td>...</td>\n",
       "    </tr>\n",
       "    <tr>\n",
       "      <th>303</th>\n",
       "      <td>2024-04-01</td>\n",
       "      <td>3.9</td>\n",
       "    </tr>\n",
       "    <tr>\n",
       "      <th>304</th>\n",
       "      <td>2024-05-01</td>\n",
       "      <td>4.0</td>\n",
       "    </tr>\n",
       "    <tr>\n",
       "      <th>305</th>\n",
       "      <td>2024-06-01</td>\n",
       "      <td>4.1</td>\n",
       "    </tr>\n",
       "    <tr>\n",
       "      <th>306</th>\n",
       "      <td>2024-07-01</td>\n",
       "      <td>4.3</td>\n",
       "    </tr>\n",
       "    <tr>\n",
       "      <th>307</th>\n",
       "      <td>2024-08-01</td>\n",
       "      <td>4.2</td>\n",
       "    </tr>\n",
       "  </tbody>\n",
       "</table>\n",
       "<p>308 rows × 2 columns</p>\n",
       "</div>"
      ],
      "text/plain": [
       "           Date  Unemployment Rate\n",
       "0    1999-01-01                4.3\n",
       "1    1999-02-01                4.4\n",
       "2    1999-03-01                4.2\n",
       "3    1999-04-01                4.3\n",
       "4    1999-05-01                4.2\n",
       "..          ...                ...\n",
       "303  2024-04-01                3.9\n",
       "304  2024-05-01                4.0\n",
       "305  2024-06-01                4.1\n",
       "306  2024-07-01                4.3\n",
       "307  2024-08-01                4.2\n",
       "\n",
       "[308 rows x 2 columns]"
      ]
     },
     "execution_count": 7,
     "metadata": {},
     "output_type": "execute_result"
    }
   ],
   "source": [
    "# Monthly\n",
    "employment_rates = employment_rates.rename(columns = {'DATE' : 'Date','UNRATE':'Unemployment Rate'})\n",
    "employment_rates"
   ]
  },
  {
   "cell_type": "code",
   "execution_count": 8,
   "id": "6a126d46",
   "metadata": {},
   "outputs": [
    {
     "data": {
      "text/html": [
       "<div>\n",
       "<style scoped>\n",
       "    .dataframe tbody tr th:only-of-type {\n",
       "        vertical-align: middle;\n",
       "    }\n",
       "\n",
       "    .dataframe tbody tr th {\n",
       "        vertical-align: top;\n",
       "    }\n",
       "\n",
       "    .dataframe thead th {\n",
       "        text-align: right;\n",
       "    }\n",
       "</style>\n",
       "<table border=\"1\" class=\"dataframe\">\n",
       "  <thead>\n",
       "    <tr style=\"text-align: right;\">\n",
       "      <th></th>\n",
       "      <th>Date</th>\n",
       "      <th>Consumer Sentiment</th>\n",
       "    </tr>\n",
       "  </thead>\n",
       "  <tbody>\n",
       "    <tr>\n",
       "      <th>0</th>\n",
       "      <td>1999-01-01</td>\n",
       "      <td>103.9</td>\n",
       "    </tr>\n",
       "    <tr>\n",
       "      <th>1</th>\n",
       "      <td>1999-02-01</td>\n",
       "      <td>108.1</td>\n",
       "    </tr>\n",
       "    <tr>\n",
       "      <th>2</th>\n",
       "      <td>1999-03-01</td>\n",
       "      <td>105.7</td>\n",
       "    </tr>\n",
       "    <tr>\n",
       "      <th>3</th>\n",
       "      <td>1999-04-01</td>\n",
       "      <td>104.6</td>\n",
       "    </tr>\n",
       "    <tr>\n",
       "      <th>4</th>\n",
       "      <td>1999-05-01</td>\n",
       "      <td>106.8</td>\n",
       "    </tr>\n",
       "    <tr>\n",
       "      <th>...</th>\n",
       "      <td>...</td>\n",
       "      <td>...</td>\n",
       "    </tr>\n",
       "    <tr>\n",
       "      <th>302</th>\n",
       "      <td>2024-03-01</td>\n",
       "      <td>79.4</td>\n",
       "    </tr>\n",
       "    <tr>\n",
       "      <th>303</th>\n",
       "      <td>2024-04-01</td>\n",
       "      <td>77.2</td>\n",
       "    </tr>\n",
       "    <tr>\n",
       "      <th>304</th>\n",
       "      <td>2024-05-01</td>\n",
       "      <td>69.1</td>\n",
       "    </tr>\n",
       "    <tr>\n",
       "      <th>305</th>\n",
       "      <td>2024-06-01</td>\n",
       "      <td>68.2</td>\n",
       "    </tr>\n",
       "    <tr>\n",
       "      <th>306</th>\n",
       "      <td>2024-07-01</td>\n",
       "      <td>66.4</td>\n",
       "    </tr>\n",
       "  </tbody>\n",
       "</table>\n",
       "<p>307 rows × 2 columns</p>\n",
       "</div>"
      ],
      "text/plain": [
       "           Date  Consumer Sentiment\n",
       "0    1999-01-01               103.9\n",
       "1    1999-02-01               108.1\n",
       "2    1999-03-01               105.7\n",
       "3    1999-04-01               104.6\n",
       "4    1999-05-01               106.8\n",
       "..          ...                 ...\n",
       "302  2024-03-01                79.4\n",
       "303  2024-04-01                77.2\n",
       "304  2024-05-01                69.1\n",
       "305  2024-06-01                68.2\n",
       "306  2024-07-01                66.4\n",
       "\n",
       "[307 rows x 2 columns]"
      ]
     },
     "execution_count": 8,
     "metadata": {},
     "output_type": "execute_result"
    }
   ],
   "source": [
    "# Monthly\n",
    "consumer_sentiment = consumer_sentiment.rename(columns = {'DATE' : 'Date','UMCSENT':'Consumer Sentiment'})\n",
    "consumer_sentiment"
   ]
  },
  {
   "cell_type": "code",
   "execution_count": 9,
   "id": "3273388f",
   "metadata": {},
   "outputs": [
    {
     "data": {
      "text/html": [
       "<div>\n",
       "<style scoped>\n",
       "    .dataframe tbody tr th:only-of-type {\n",
       "        vertical-align: middle;\n",
       "    }\n",
       "\n",
       "    .dataframe tbody tr th {\n",
       "        vertical-align: top;\n",
       "    }\n",
       "\n",
       "    .dataframe thead th {\n",
       "        text-align: right;\n",
       "    }\n",
       "</style>\n",
       "<table border=\"1\" class=\"dataframe\">\n",
       "  <thead>\n",
       "    <tr style=\"text-align: right;\">\n",
       "      <th></th>\n",
       "      <th>Date</th>\n",
       "      <th>VIX Open</th>\n",
       "      <th>VIX High</th>\n",
       "      <th>VIX Low</th>\n",
       "      <th>VIX Close</th>\n",
       "      <th>VIX Adj Close</th>\n",
       "      <th>VIX Volume</th>\n",
       "    </tr>\n",
       "  </thead>\n",
       "  <tbody>\n",
       "    <tr>\n",
       "      <th>0</th>\n",
       "      <td>1999-01-04</td>\n",
       "      <td>25.379999</td>\n",
       "      <td>26.959999</td>\n",
       "      <td>24.740000</td>\n",
       "      <td>26.170000</td>\n",
       "      <td>26.170000</td>\n",
       "      <td>0</td>\n",
       "    </tr>\n",
       "    <tr>\n",
       "      <th>1</th>\n",
       "      <td>1999-01-05</td>\n",
       "      <td>25.920000</td>\n",
       "      <td>25.980000</td>\n",
       "      <td>24.360001</td>\n",
       "      <td>24.459999</td>\n",
       "      <td>24.459999</td>\n",
       "      <td>0</td>\n",
       "    </tr>\n",
       "    <tr>\n",
       "      <th>2</th>\n",
       "      <td>1999-01-06</td>\n",
       "      <td>23.360001</td>\n",
       "      <td>23.379999</td>\n",
       "      <td>22.680000</td>\n",
       "      <td>23.340000</td>\n",
       "      <td>23.340000</td>\n",
       "      <td>0</td>\n",
       "    </tr>\n",
       "    <tr>\n",
       "      <th>3</th>\n",
       "      <td>1999-01-07</td>\n",
       "      <td>24.420000</td>\n",
       "      <td>24.900000</td>\n",
       "      <td>24.040001</td>\n",
       "      <td>24.370001</td>\n",
       "      <td>24.370001</td>\n",
       "      <td>0</td>\n",
       "    </tr>\n",
       "    <tr>\n",
       "      <th>4</th>\n",
       "      <td>1999-01-08</td>\n",
       "      <td>22.950001</td>\n",
       "      <td>24.080000</td>\n",
       "      <td>22.809999</td>\n",
       "      <td>23.280001</td>\n",
       "      <td>23.280001</td>\n",
       "      <td>0</td>\n",
       "    </tr>\n",
       "    <tr>\n",
       "      <th>...</th>\n",
       "      <td>...</td>\n",
       "      <td>...</td>\n",
       "      <td>...</td>\n",
       "      <td>...</td>\n",
       "      <td>...</td>\n",
       "      <td>...</td>\n",
       "      <td>...</td>\n",
       "    </tr>\n",
       "    <tr>\n",
       "      <th>6442</th>\n",
       "      <td>2024-08-12</td>\n",
       "      <td>20.790001</td>\n",
       "      <td>21.190001</td>\n",
       "      <td>18.889999</td>\n",
       "      <td>20.709999</td>\n",
       "      <td>20.709999</td>\n",
       "      <td>0</td>\n",
       "    </tr>\n",
       "    <tr>\n",
       "      <th>6443</th>\n",
       "      <td>2024-08-13</td>\n",
       "      <td>20.059999</td>\n",
       "      <td>20.790001</td>\n",
       "      <td>17.950001</td>\n",
       "      <td>18.120001</td>\n",
       "      <td>18.120001</td>\n",
       "      <td>0</td>\n",
       "    </tr>\n",
       "    <tr>\n",
       "      <th>6444</th>\n",
       "      <td>2024-08-14</td>\n",
       "      <td>18.410000</td>\n",
       "      <td>18.490000</td>\n",
       "      <td>16.120001</td>\n",
       "      <td>16.190001</td>\n",
       "      <td>16.190001</td>\n",
       "      <td>0</td>\n",
       "    </tr>\n",
       "    <tr>\n",
       "      <th>6445</th>\n",
       "      <td>2024-08-15</td>\n",
       "      <td>16.270000</td>\n",
       "      <td>16.680000</td>\n",
       "      <td>14.770000</td>\n",
       "      <td>15.230000</td>\n",
       "      <td>15.230000</td>\n",
       "      <td>0</td>\n",
       "    </tr>\n",
       "    <tr>\n",
       "      <th>6446</th>\n",
       "      <td>2024-08-16</td>\n",
       "      <td>15.290000</td>\n",
       "      <td>15.760000</td>\n",
       "      <td>14.650000</td>\n",
       "      <td>14.800000</td>\n",
       "      <td>14.800000</td>\n",
       "      <td>0</td>\n",
       "    </tr>\n",
       "  </tbody>\n",
       "</table>\n",
       "<p>6447 rows × 7 columns</p>\n",
       "</div>"
      ],
      "text/plain": [
       "            Date   VIX Open   VIX High    VIX Low  VIX Close  VIX Adj Close  \\\n",
       "0     1999-01-04  25.379999  26.959999  24.740000  26.170000      26.170000   \n",
       "1     1999-01-05  25.920000  25.980000  24.360001  24.459999      24.459999   \n",
       "2     1999-01-06  23.360001  23.379999  22.680000  23.340000      23.340000   \n",
       "3     1999-01-07  24.420000  24.900000  24.040001  24.370001      24.370001   \n",
       "4     1999-01-08  22.950001  24.080000  22.809999  23.280001      23.280001   \n",
       "...          ...        ...        ...        ...        ...            ...   \n",
       "6442  2024-08-12  20.790001  21.190001  18.889999  20.709999      20.709999   \n",
       "6443  2024-08-13  20.059999  20.790001  17.950001  18.120001      18.120001   \n",
       "6444  2024-08-14  18.410000  18.490000  16.120001  16.190001      16.190001   \n",
       "6445  2024-08-15  16.270000  16.680000  14.770000  15.230000      15.230000   \n",
       "6446  2024-08-16  15.290000  15.760000  14.650000  14.800000      14.800000   \n",
       "\n",
       "      VIX Volume  \n",
       "0              0  \n",
       "1              0  \n",
       "2              0  \n",
       "3              0  \n",
       "4              0  \n",
       "...          ...  \n",
       "6442           0  \n",
       "6443           0  \n",
       "6444           0  \n",
       "6445           0  \n",
       "6446           0  \n",
       "\n",
       "[6447 rows x 7 columns]"
      ]
     },
     "execution_count": 9,
     "metadata": {},
     "output_type": "execute_result"
    }
   ],
   "source": [
    "vix.columns = ['Date']+['VIX ' + str(col) for col in vix.columns if col != 'Date']\n",
    "vix"
   ]
  },
  {
   "cell_type": "markdown",
   "id": "90f2629b",
   "metadata": {},
   "source": [
    "# Preprocessing before merging"
   ]
  },
  {
   "cell_type": "code",
   "execution_count": 10,
   "id": "f6d6655d",
   "metadata": {},
   "outputs": [],
   "source": [
    "# Define a function to handle date column\n",
    "def time_series_data_handler(df):\n",
    "    # Convert 'Date' column to datetime\n",
    "    df['Date'] = pd.to_datetime(df['Date'])\n",
    "\n",
    "    # Set 'Date' as the index\n",
    "    df.set_index('Date', inplace=True) \n",
    "\n",
    "    # Resample to daily frequency and forward fill missing data\n",
    "    return df.resample('D').ffill()"
   ]
  },
  {
   "cell_type": "markdown",
   "id": "61867f8b",
   "metadata": {},
   "source": [
    "### Interest Rates"
   ]
  },
  {
   "cell_type": "code",
   "execution_count": 11,
   "id": "ad97d3a5",
   "metadata": {},
   "outputs": [
    {
     "data": {
      "text/plain": [
       "Date               0\n",
       "Interest Rate    273\n",
       "dtype: int64"
      ]
     },
     "execution_count": 11,
     "metadata": {},
     "output_type": "execute_result"
    }
   ],
   "source": [
    "interest_rates.isna().sum()"
   ]
  },
  {
   "cell_type": "code",
   "execution_count": 12,
   "id": "9f56536f",
   "metadata": {},
   "outputs": [
    {
     "data": {
      "text/plain": [
       "Date             0\n",
       "Interest Rate    0\n",
       "dtype: int64"
      ]
     },
     "execution_count": 12,
     "metadata": {},
     "output_type": "execute_result"
    }
   ],
   "source": [
    "# Fill na with previous date data\n",
    "interest_rates.fillna(method='ffill', inplace=True)\n",
    "\n",
    "# Check if there are any remaining NaN values\n",
    "interest_rates.isna().sum()"
   ]
  },
  {
   "cell_type": "code",
   "execution_count": 13,
   "id": "3faa6b44",
   "metadata": {},
   "outputs": [
    {
     "data": {
      "text/plain": [
       "(9363, 1)"
      ]
     },
     "execution_count": 13,
     "metadata": {},
     "output_type": "execute_result"
    }
   ],
   "source": [
    "interest_rates = time_series_data_handler(interest_rates)\n",
    "interest_rates.shape"
   ]
  },
  {
   "cell_type": "markdown",
   "id": "c7c402be",
   "metadata": {},
   "source": [
    "### SP500"
   ]
  },
  {
   "cell_type": "code",
   "execution_count": 14,
   "id": "18ee2da3",
   "metadata": {},
   "outputs": [
    {
     "data": {
      "text/plain": [
       "Date               0\n",
       "sp500_Open         0\n",
       "sp500_High         0\n",
       "sp500_Low          0\n",
       "sp500_Close        0\n",
       "sp500_Adj Close    0\n",
       "sp500_Volume       0\n",
       "dtype: int64"
      ]
     },
     "execution_count": 14,
     "metadata": {},
     "output_type": "execute_result"
    }
   ],
   "source": [
    "sp500.isna().sum()"
   ]
  },
  {
   "cell_type": "code",
   "execution_count": 15,
   "id": "22ab04f2",
   "metadata": {},
   "outputs": [
    {
     "data": {
      "text/plain": [
       "(9357, 6)"
      ]
     },
     "execution_count": 15,
     "metadata": {},
     "output_type": "execute_result"
    }
   ],
   "source": [
    "sp500 = time_series_data_handler(sp500)\n",
    "sp500.shape"
   ]
  },
  {
   "cell_type": "markdown",
   "id": "6d1b9903",
   "metadata": {},
   "source": [
    "### Inflation Rates"
   ]
  },
  {
   "cell_type": "code",
   "execution_count": 16,
   "id": "aa79a7fd",
   "metadata": {},
   "outputs": [
    {
     "data": {
      "text/plain": [
       "Date               0\n",
       "Inflation Index    0\n",
       "dtype: int64"
      ]
     },
     "execution_count": 16,
     "metadata": {},
     "output_type": "execute_result"
    }
   ],
   "source": [
    "inflation_rates.isna().sum()"
   ]
  },
  {
   "cell_type": "code",
   "execution_count": 17,
   "id": "dc971139",
   "metadata": {},
   "outputs": [
    {
     "data": {
      "text/plain": [
       "(9345, 1)"
      ]
     },
     "execution_count": 17,
     "metadata": {},
     "output_type": "execute_result"
    }
   ],
   "source": [
    "inflation_rates = time_series_data_handler(inflation_rates)\n",
    "inflation_rates.shape"
   ]
  },
  {
   "cell_type": "markdown",
   "id": "17a62abd",
   "metadata": {},
   "source": [
    "### GDP Growth Rates"
   ]
  },
  {
   "cell_type": "code",
   "execution_count": 18,
   "id": "a7cb1515",
   "metadata": {},
   "outputs": [
    {
     "data": {
      "text/plain": [
       "Date               0\n",
       "GDP Growth Rate    0\n",
       "dtype: int64"
      ]
     },
     "execution_count": 18,
     "metadata": {},
     "output_type": "execute_result"
    }
   ],
   "source": [
    "gdp_growth_rates.isna().sum()"
   ]
  },
  {
   "cell_type": "code",
   "execution_count": 19,
   "id": "953e3b68",
   "metadata": {},
   "outputs": [
    {
     "data": {
      "text/plain": [
       "(9223, 1)"
      ]
     },
     "execution_count": 19,
     "metadata": {},
     "output_type": "execute_result"
    }
   ],
   "source": [
    "gdp_growth_rates = time_series_data_handler(gdp_growth_rates)\n",
    "gdp_growth_rates.shape"
   ]
  },
  {
   "cell_type": "markdown",
   "id": "6ba93984",
   "metadata": {},
   "source": [
    "### Employment Rates"
   ]
  },
  {
   "cell_type": "code",
   "execution_count": 20,
   "id": "958e1618",
   "metadata": {},
   "outputs": [
    {
     "data": {
      "text/plain": [
       "Date                 0\n",
       "Unemployment Rate    0\n",
       "dtype: int64"
      ]
     },
     "execution_count": 20,
     "metadata": {},
     "output_type": "execute_result"
    }
   ],
   "source": [
    "employment_rates.isna().sum()"
   ]
  },
  {
   "cell_type": "code",
   "execution_count": 21,
   "id": "2fce7aa4",
   "metadata": {},
   "outputs": [
    {
     "data": {
      "text/plain": [
       "(9345, 1)"
      ]
     },
     "execution_count": 21,
     "metadata": {},
     "output_type": "execute_result"
    }
   ],
   "source": [
    "employment_rates = time_series_data_handler(employment_rates)\n",
    "employment_rates.shape"
   ]
  },
  {
   "cell_type": "markdown",
   "id": "04c4666d",
   "metadata": {},
   "source": [
    "### Consumer Sentiment"
   ]
  },
  {
   "cell_type": "code",
   "execution_count": 22,
   "id": "9d208be3",
   "metadata": {},
   "outputs": [
    {
     "data": {
      "text/plain": [
       "Date                  0\n",
       "Consumer Sentiment    0\n",
       "dtype: int64"
      ]
     },
     "execution_count": 22,
     "metadata": {},
     "output_type": "execute_result"
    }
   ],
   "source": [
    "consumer_sentiment.isna().sum()"
   ]
  },
  {
   "cell_type": "code",
   "execution_count": 23,
   "id": "cd77291b",
   "metadata": {},
   "outputs": [
    {
     "data": {
      "text/plain": [
       "(9314, 1)"
      ]
     },
     "execution_count": 23,
     "metadata": {},
     "output_type": "execute_result"
    }
   ],
   "source": [
    "consumer_sentiment = time_series_data_handler(consumer_sentiment)\n",
    "consumer_sentiment.shape"
   ]
  },
  {
   "cell_type": "markdown",
   "id": "54bda5a7",
   "metadata": {},
   "source": [
    "### Volatility Index (VIX)"
   ]
  },
  {
   "cell_type": "code",
   "execution_count": 24,
   "id": "7609e90f",
   "metadata": {},
   "outputs": [
    {
     "data": {
      "text/plain": [
       "0"
      ]
     },
     "execution_count": 24,
     "metadata": {},
     "output_type": "execute_result"
    }
   ],
   "source": [
    "vix.columns.isna().sum()"
   ]
  },
  {
   "cell_type": "code",
   "execution_count": 25,
   "id": "174cf0ce",
   "metadata": {},
   "outputs": [
    {
     "data": {
      "text/plain": [
       "(9357, 6)"
      ]
     },
     "execution_count": 25,
     "metadata": {},
     "output_type": "execute_result"
    }
   ],
   "source": [
    "vix = time_series_data_handler(vix)\n",
    "vix.shape"
   ]
  },
  {
   "cell_type": "markdown",
   "id": "a140dec1",
   "metadata": {},
   "source": [
    "# Merge df"
   ]
  },
  {
   "cell_type": "code",
   "execution_count": 26,
   "id": "c83c23b1",
   "metadata": {},
   "outputs": [],
   "source": [
    "df = interest_rates.merge(gdp_growth_rates, on = 'Date', how = 'left')"
   ]
  },
  {
   "cell_type": "code",
   "execution_count": 27,
   "id": "7d917402",
   "metadata": {},
   "outputs": [],
   "source": [
    "df = df.merge(sp500, on = 'Date', how = 'left')"
   ]
  },
  {
   "cell_type": "code",
   "execution_count": 28,
   "id": "f7b9d6d0",
   "metadata": {},
   "outputs": [],
   "source": [
    "df = df.merge(inflation_rates, on = 'Date', how = 'left')"
   ]
  },
  {
   "cell_type": "code",
   "execution_count": 29,
   "id": "45eba15e",
   "metadata": {},
   "outputs": [],
   "source": [
    "df = df.merge(employment_rates, on = 'Date', how = 'left')"
   ]
  },
  {
   "cell_type": "code",
   "execution_count": 30,
   "id": "09749f91",
   "metadata": {},
   "outputs": [],
   "source": [
    "df = df.merge(consumer_sentiment, on = 'Date', how = 'left')"
   ]
  },
  {
   "cell_type": "code",
   "execution_count": 31,
   "id": "2d25d6ff",
   "metadata": {},
   "outputs": [],
   "source": [
    "df = df.merge(vix, on = 'Date', how = 'left')"
   ]
  },
  {
   "cell_type": "code",
   "execution_count": 32,
   "id": "45923a4d",
   "metadata": {},
   "outputs": [
    {
     "data": {
      "text/plain": [
       "<bound method NDFrame.describe of             Interest Rate  GDP Growth Rate  sp500_Open  sp500_High  \\\n",
       "Date                                                                 \n",
       "1999-01-01           4.69              3.8         NaN         NaN   \n",
       "1999-01-02           4.69              3.8         NaN         NaN   \n",
       "1999-01-03           4.69              3.8         NaN         NaN   \n",
       "1999-01-04           4.69              3.8  123.375000  125.218750   \n",
       "1999-01-05           4.74              3.8  122.937500  124.875000   \n",
       "...                   ...              ...         ...         ...   \n",
       "2024-08-15           3.92              NaN  549.500000  553.359985   \n",
       "2024-08-16           3.89              NaN  551.419983  555.020020   \n",
       "2024-08-17           3.89              NaN         NaN         NaN   \n",
       "2024-08-18           3.89              NaN         NaN         NaN   \n",
       "2024-08-19           3.86              NaN         NaN         NaN   \n",
       "\n",
       "             sp500_Low  sp500_Close  sp500_Adj Close  sp500_Volume  \\\n",
       "Date                                                                 \n",
       "1999-01-01         NaN          NaN              NaN           NaN   \n",
       "1999-01-02         NaN          NaN              NaN           NaN   \n",
       "1999-01-03         NaN          NaN              NaN           NaN   \n",
       "1999-01-04  121.718750   123.031250        78.077797     9450400.0   \n",
       "1999-01-05  122.937500   124.437500        78.970261     8031000.0   \n",
       "...                ...          ...              ...           ...   \n",
       "2024-08-15  548.880005   553.070007       553.070007    60846800.0   \n",
       "2024-08-16  551.260010   554.309998       554.309998    44430700.0   \n",
       "2024-08-17         NaN          NaN              NaN           NaN   \n",
       "2024-08-18         NaN          NaN              NaN           NaN   \n",
       "2024-08-19         NaN          NaN              NaN           NaN   \n",
       "\n",
       "            Inflation Index  Unemployment Rate  Consumer Sentiment   VIX Open  \\\n",
       "Date                                                                            \n",
       "1999-01-01            164.7                4.3               103.9        NaN   \n",
       "1999-01-02            164.7                4.3               103.9        NaN   \n",
       "1999-01-03            164.7                4.3               103.9        NaN   \n",
       "1999-01-04            164.7                4.3               103.9  25.379999   \n",
       "1999-01-05            164.7                4.3               103.9  25.920000   \n",
       "...                     ...                ...                 ...        ...   \n",
       "2024-08-15              NaN                NaN                 NaN  16.270000   \n",
       "2024-08-16              NaN                NaN                 NaN  15.290000   \n",
       "2024-08-17              NaN                NaN                 NaN        NaN   \n",
       "2024-08-18              NaN                NaN                 NaN        NaN   \n",
       "2024-08-19              NaN                NaN                 NaN        NaN   \n",
       "\n",
       "             VIX High    VIX Low  VIX Close  VIX Adj Close  VIX Volume  \n",
       "Date                                                                    \n",
       "1999-01-01        NaN        NaN        NaN            NaN         NaN  \n",
       "1999-01-02        NaN        NaN        NaN            NaN         NaN  \n",
       "1999-01-03        NaN        NaN        NaN            NaN         NaN  \n",
       "1999-01-04  26.959999  24.740000  26.170000      26.170000         0.0  \n",
       "1999-01-05  25.980000  24.360001  24.459999      24.459999         0.0  \n",
       "...               ...        ...        ...            ...         ...  \n",
       "2024-08-15  16.680000  14.770000  15.230000      15.230000         0.0  \n",
       "2024-08-16  15.760000  14.650000  14.800000      14.800000         0.0  \n",
       "2024-08-17        NaN        NaN        NaN            NaN         NaN  \n",
       "2024-08-18        NaN        NaN        NaN            NaN         NaN  \n",
       "2024-08-19        NaN        NaN        NaN            NaN         NaN  \n",
       "\n",
       "[9363 rows x 17 columns]>"
      ]
     },
     "execution_count": 32,
     "metadata": {},
     "output_type": "execute_result"
    }
   ],
   "source": [
    "# Final df, should have 17 columns\n",
    "df.describe"
   ]
  },
  {
   "cell_type": "code",
   "execution_count": 33,
   "id": "4fa51fdc",
   "metadata": {},
   "outputs": [
    {
     "name": "stdout",
     "output_type": "stream",
     "text": [
      "Null values: \n",
      "Interest Rate         0\n",
      "GDP Growth Rate       0\n",
      "sp500_Open            0\n",
      "sp500_High            0\n",
      "sp500_Low             0\n",
      "sp500_Close           0\n",
      "sp500_Adj Close       0\n",
      "sp500_Volume          0\n",
      "Inflation Index       0\n",
      "Unemployment Rate     0\n",
      "Consumer Sentiment    0\n",
      "VIX Open              0\n",
      "VIX High              0\n",
      "VIX Low               0\n",
      "VIX Close             0\n",
      "VIX Adj Close         0\n",
      "VIX Volume            0\n",
      "dtype: int64\n"
     ]
    },
    {
     "data": {
      "text/plain": [
       "(9363, 17)"
      ]
     },
     "execution_count": 33,
     "metadata": {},
     "output_type": "execute_result"
    }
   ],
   "source": [
    "# Return data from 1999-01-04 to 2024-04-01\n",
    "# df = df.dropna()\n",
    "\n",
    "# Do ffill and bfill to retain data from 1999-01-01 to 2024-08-19\n",
    "df = df.fillna(method = 'ffill')\n",
    "df = df.fillna(method = 'bfill')\n",
    "print(\"Null values: \")\n",
    "print(df.isna().sum())\n",
    "df.shape"
   ]
  }
 ],
 "metadata": {
  "kernelspec": {
   "display_name": "Python 3",
   "language": "python",
   "name": "python3"
  },
  "language_info": {
   "codemirror_mode": {
    "name": "ipython",
    "version": 3
   },
   "file_extension": ".py",
   "mimetype": "text/x-python",
   "name": "python",
   "nbconvert_exporter": "python",
   "pygments_lexer": "ipython3",
   "version": "3.8.10"
  }
 },
 "nbformat": 4,
 "nbformat_minor": 5
}
